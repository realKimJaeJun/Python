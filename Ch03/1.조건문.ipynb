{
 "cells": [
  {
   "cell_type": "code",
   "execution_count": 1,
   "metadata": {},
   "outputs": [
    {
     "data": {
      "text/plain": [
       "'\\n날짜: 2023/01/03\\n이름: 김재준\\n내용: 파이썬 조건문 실습하기\\n'"
      ]
     },
     "execution_count": 1,
     "metadata": {},
     "output_type": "execute_result"
    }
   ],
   "source": [
    "\"\"\"\n",
    "날짜: 2023/01/03\n",
    "이름: 김재준\n",
    "내용: 파이썬 조건문 실습하기\n",
    "\"\"\""
   ]
  },
  {
   "cell_type": "code",
   "execution_count": 6,
   "metadata": {},
   "outputs": [
    {
     "name": "stdout",
     "output_type": "stream",
     "text": [
      "num1은 0보다 크다\n",
      "num1은 0보다 크고 num2는 1보다 크다.\n",
      "num1은 0보다 크고 그리고 num2는 1보다 크다.\n"
     ]
    }
   ],
   "source": [
    "# if\n",
    "num1, num2 = 1, 2\n",
    "\n",
    "if num1 > 0:\n",
    "    print('num1은 0보다 크다')\n",
    "\n",
    "if num1 > num2:\n",
    "    print('num1은 num2보다 크다.')\n",
    "\n",
    "if num1 > 0:\n",
    "    if num2 > 1:\n",
    "        print('num1은 0보다 크고 num2는 1보다 크다.')\n",
    "\n",
    "if num1 > 0 and num2 > 1:\n",
    "    print('num1은 0보다 크고 그리고 num2는 1보다 크다.')"
   ]
  },
  {
   "cell_type": "code",
   "execution_count": 9,
   "metadata": {},
   "outputs": [
    {
     "name": "stdout",
     "output_type": "stream",
     "text": [
      "num3은 num4보다 작다.\n"
     ]
    }
   ],
   "source": [
    "# if ~ else\n",
    "num3, num4 = 3, 4\n",
    "\n",
    "if num3 > num4:\n",
    "    print('num3은 num4보다 크다.')\n",
    "else:\n",
    "    print('num3은 num4보다 작다.')"
   ]
  },
  {
   "cell_type": "code",
   "execution_count": 11,
   "metadata": {},
   "outputs": [
    {
     "name": "stdout",
     "output_type": "stream",
     "text": [
      "n4가 가장 크다.\n"
     ]
    }
   ],
   "source": [
    "# if ~ elif ~ else\n",
    "n1, n2, n3, n4 = 1, 2, 3, 4\n",
    "\n",
    "if n1 > n2:\n",
    "    print('n1은 n2보다 크다.')\n",
    "elif n2 > n3:\n",
    "    print('n2는 n3보다 크다.')\n",
    "elif n3 > n4:\n",
    "    print('n3은 n4보다 크다.')\n",
    "else:\n",
    "    print('n4가 가장 크다.')"
   ]
  },
  {
   "cell_type": "code",
   "execution_count": 18,
   "metadata": {},
   "outputs": [
    {
     "name": "stdout",
     "output_type": "stream",
     "text": [
      "A입니다.\n"
     ]
    }
   ],
   "source": [
    "# 연습문제\n",
    "score = int(input('점수입력:'))\n",
    "if 90<= score <= 100:\n",
    "    print('A입니다.')\n",
    "elif 80<= score <= 89:\n",
    "    print('B입니다.')\n",
    "elif 70<= score <= 79:\n",
    "    print('C입니다.')\n",
    "elif 60<= score <= 69:\n",
    "    print('D입니다.')\n",
    "else:\n",
    "    print('F입니다.')"
   ]
  }
 ],
 "metadata": {
  "kernelspec": {
   "display_name": "Python 3",
   "language": "python",
   "name": "python3"
  },
  "language_info": {
   "codemirror_mode": {
    "name": "ipython",
    "version": 3
   },
   "file_extension": ".py",
   "mimetype": "text/x-python",
   "name": "python",
   "nbconvert_exporter": "python",
   "pygments_lexer": "ipython3",
   "version": "3.11.1 (tags/v3.11.1:a7a450f, Dec  6 2022, 19:58:39) [MSC v.1934 64 bit (AMD64)]"
  },
  "orig_nbformat": 4,
  "vscode": {
   "interpreter": {
    "hash": "5868237a719c5308d34c8911a17794e6baa898a055f8bd5fbd9df195d03bb563"
   }
  }
 },
 "nbformat": 4,
 "nbformat_minor": 2
}
