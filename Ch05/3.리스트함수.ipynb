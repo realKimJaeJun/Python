{
 "cells": [
  {
   "cell_type": "code",
   "execution_count": 2,
   "metadata": {},
   "outputs": [],
   "source": [
    "\"\"\"\n",
    "날짜: 2023/01/03\n",
    "이름: 김재준\n",
    "내용: 파이썬 리스트함수 실습하기\n",
    "\"\"\"\n",
    "import math"
   ]
  },
  {
   "cell_type": "code",
   "execution_count": 9,
   "metadata": {},
   "outputs": [
    {
     "name": "stdout",
     "output_type": "stream",
     "text": [
      "1 - [1, 4, 3]\n",
      "2 - [1, 4, 3, 2, 5]\n",
      "3 - [1, 2, 3, 4, 5]\n",
      "4 - [5, 4, 3, 2, 1]\n",
      "5 - [1, 2, 3, 4, 5]\n",
      "6 - [1, 2, 6, 3, 4, 5]\n",
      "7 - [1, 7, 2, 6, 3, 4, 5]\n",
      "8 - [1, 7, 2, 3, 4, 5]\n",
      "9 - [1, 2, 3, 4, 5]\n"
     ]
    }
   ],
   "source": [
    "# 리스트 내장함수\n",
    "dataset = [1, 4, 3]\n",
    "\n",
    "print('1 -', dataset)\n",
    "\n",
    "# 추가\n",
    "dataset.append(2)\n",
    "dataset.append(5)\n",
    "\n",
    "print('2 -', dataset)\n",
    "\n",
    "# 정렬\n",
    "dataset.sort()\n",
    "print('3 -', dataset)\n",
    "\n",
    "dataset.sort(reverse=True)\n",
    "print('4 -', dataset)\n",
    "\n",
    "dataset.reverse()\n",
    "print('5 -', dataset)\n",
    "\n",
    "# 삽입\n",
    "dataset.insert(2, 6)\n",
    "print('6 -', dataset) \n",
    "\n",
    "dataset.insert(1, 7)\n",
    "print('7 -', dataset) \n",
    "\n",
    "# 삭제\n",
    "dataset.remove(6)\n",
    "print('8 -', dataset)\n",
    "\n",
    "dataset.pop(1)\n",
    "print('9 -', dataset)"
   ]
  },
  {
   "cell_type": "code",
   "execution_count": 30,
   "metadata": {},
   "outputs": [
    {
     "name": "stdout",
     "output_type": "stream",
     "text": [
      "r1 : [11, 12, 13, 14, 15]\n",
      "r2 : [1, 2, 3, 4, 5]\n",
      "r3 : [1, 2, 3, 4, 5]\n"
     ]
    }
   ],
   "source": [
    "# map 함수 : 리스트의 원소를 지정된 함수로 일괄 처리 해주는 함수\n",
    "def plus(n):\n",
    "    return n+10\n",
    "\n",
    "list1 = [1, 2, 3, 4, 5]\n",
    "\n",
    "r1 = map(plus, list1)\n",
    "print('r1 :', list(r1))\n",
    "\n",
    "list2 = [0.1, 1.2, 2.6, 3.4, 4.9]\n",
    "\n",
    "r2 = list(map(math.ceil, list2))\n",
    "print('r2 :', r2)\n",
    "\n",
    "list3 = ['1', '2', '3', '4', '5']\n",
    "\n",
    "r3 = list(map(int, list3))\n",
    "print('r3 :', r3)"
   ]
  }
 ],
 "metadata": {
  "kernelspec": {
   "display_name": "Python 3",
   "language": "python",
   "name": "python3"
  },
  "language_info": {
   "codemirror_mode": {
    "name": "ipython",
    "version": 3
   },
   "file_extension": ".py",
   "mimetype": "text/x-python",
   "name": "python",
   "nbconvert_exporter": "python",
   "pygments_lexer": "ipython3",
   "version": "3.11.1"
  },
  "orig_nbformat": 4,
  "vscode": {
   "interpreter": {
    "hash": "5868237a719c5308d34c8911a17794e6baa898a055f8bd5fbd9df195d03bb563"
   }
  }
 },
 "nbformat": 4,
 "nbformat_minor": 2
}
