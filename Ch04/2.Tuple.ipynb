{
 "cells": [
  {
   "cell_type": "code",
   "execution_count": 1,
   "metadata": {},
   "outputs": [
    {
     "data": {
      "text/plain": [
       "'\\n날짜: 2023/01/03\\n이름: 김재준\\n내용: 파이썬 자료구조 Tuple 실습하기\\n'"
      ]
     },
     "execution_count": 1,
     "metadata": {},
     "output_type": "execute_result"
    }
   ],
   "source": [
    "\"\"\"\n",
    "날짜: 2023/01/03\n",
    "이름: 김재준\n",
    "내용: 파이썬 자료구조 Tuple 실습하기\n",
    "\"\"\""
   ]
  },
  {
   "cell_type": "code",
   "execution_count": 4,
   "metadata": {},
   "outputs": [
    {
     "name": "stdout",
     "output_type": "stream",
     "text": [
      "data type :  <class 'tuple'>\n",
      "data[0] :  1\n",
      "data[2] :  3\n",
      "data[3] :  4\n",
      "city :  서울\n",
      "city :  대전\n",
      "city :  대구\n",
      "city :  부산\n",
      "city :  광주\n"
     ]
    }
   ],
   "source": [
    "# 튜플\n",
    "data = (1, 2, 3, 4, 5)\n",
    "print('data type : ', type(data))\n",
    "print('data[0] : ', data[0])\n",
    "print('data[2] : ', data[2])\n",
    "print('data[3] : ', data[3])\n",
    "\n",
    "cities = ('서울', '대전', '대구', '부산', '광주')\n",
    "for city in cities:\n",
    "    print('city : ', city)"
   ]
  },
  {
   "cell_type": "code",
   "execution_count": null,
   "metadata": {},
   "outputs": [],
   "source": [
    "# 튜플 수정, 추가, 삭제\n",
    "data = 1, 2, 3, 4, 5\n",
    "print('data type : ', type(data))\n",
    "\n",
    "data[0] = 7 # 튜플 데이터 수정, 추가, 삭제 안됨"
   ]
  }
 ],
 "metadata": {
  "kernelspec": {
   "display_name": "Python 3",
   "language": "python",
   "name": "python3"
  },
  "language_info": {
   "codemirror_mode": {
    "name": "ipython",
    "version": 3
   },
   "file_extension": ".py",
   "mimetype": "text/x-python",
   "name": "python",
   "nbconvert_exporter": "python",
   "pygments_lexer": "ipython3",
   "version": "3.11.1 (tags/v3.11.1:a7a450f, Dec  6 2022, 19:58:39) [MSC v.1934 64 bit (AMD64)]"
  },
  "orig_nbformat": 4,
  "vscode": {
   "interpreter": {
    "hash": "5868237a719c5308d34c8911a17794e6baa898a055f8bd5fbd9df195d03bb563"
   }
  }
 },
 "nbformat": 4,
 "nbformat_minor": 2
}
