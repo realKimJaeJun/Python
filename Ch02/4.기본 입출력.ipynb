{
 "cells": [
  {
   "cell_type": "code",
   "execution_count": 1,
   "metadata": {},
   "outputs": [
    {
     "data": {
      "text/plain": [
       "'\\n날짜 : 2023/01/02\\n이름 : 김재준\\n내용 : 파이썬 기본 입출력 실습\\n'"
      ]
     },
     "execution_count": 1,
     "metadata": {},
     "output_type": "execute_result"
    }
   ],
   "source": [
    "\"\"\"\n",
    "날짜 : 2023/01/02\n",
    "이름 : 김재준\n",
    "내용 : 파이썬 기본 입출력 실습\n",
    "\"\"\""
   ]
  },
  {
   "cell_type": "code",
   "execution_count": 4,
   "metadata": {},
   "outputs": [
    {
     "name": "stdout",
     "output_type": "stream",
     "text": [
      "num :  \n",
      "num type :  <class 'str'>\n"
     ]
    }
   ],
   "source": [
    "# 파이썬 기본 입출력\n",
    "num = input('숫자 입력')\n",
    "print('num : ', num)\n",
    "print('num type : ', type(num))"
   ]
  },
  {
   "cell_type": "code",
   "execution_count": 1,
   "metadata": {},
   "outputs": [
    {
     "name": "stdout",
     "output_type": "stream",
     "text": [
      "3\n",
      "-1\n",
      "2\n",
      "0.5\n",
      "1\n"
     ]
    }
   ],
   "source": [
    "# 파이썬 연속 입력\n",
    "a, b, c = map(int, input().split())\n",
    "\n",
    "print(a + b + c)"
   ]
  },
  {
   "cell_type": "code",
   "execution_count": 16,
   "metadata": {},
   "outputs": [
    {
     "name": "stdout",
     "output_type": "stream",
     "text": [
      "3\n"
     ]
    }
   ],
   "source": [
    "# 문자열 변환\n",
    "num1 = '1'\n",
    "num2 = '2'\n",
    "\n",
    "num1 = int(num1)\n",
    "num2 = int(num2)\n",
    "\n",
    "print(num1 + num2)"
   ]
  },
  {
   "cell_type": "code",
   "execution_count": 22,
   "metadata": {},
   "outputs": [
    {
     "name": "stdout",
     "output_type": "stream",
     "text": [
      "010-1234-5678\n",
      "Hello, World, Python\n"
     ]
    }
   ],
   "source": [
    "# 기본 출력 옵션\n",
    "print('010', '1234', '5678', sep='-')\n",
    "print('Hello', end=', ')\n",
    "print('World',end=', ')\n",
    "print('Python')"
   ]
  },
  {
   "cell_type": "code",
   "execution_count": 24,
   "metadata": {},
   "outputs": [
    {
     "name": "stdout",
     "output_type": "stream",
     "text": [
      "2023년 1월 2일 월요일\n"
     ]
    }
   ],
   "source": [
    "# 서식문자\n",
    "print('%d년 %d월 %d일 %s요일' % (2023, 1, 2, '월'))"
   ]
  },
  {
   "cell_type": "code",
   "execution_count": 25,
   "metadata": {},
   "outputs": [
    {
     "name": "stdout",
     "output_type": "stream",
     "text": [
      "2023년 1월 2일 월요일\n"
     ]
    }
   ],
   "source": [
    "# 포맷문자\n",
    "print('{}년 {}월 {}일 {}요일'.format(2023, 1, 2, '월'))"
   ]
  }
 ],
 "metadata": {
  "kernelspec": {
   "display_name": "Python 3",
   "language": "python",
   "name": "python3"
  },
  "language_info": {
   "codemirror_mode": {
    "name": "ipython",
    "version": 3
   },
   "file_extension": ".py",
   "mimetype": "text/x-python",
   "name": "python",
   "nbconvert_exporter": "python",
   "pygments_lexer": "ipython3",
   "version": "3.11.1 (tags/v3.11.1:a7a450f, Dec  6 2022, 19:58:39) [MSC v.1934 64 bit (AMD64)]"
  },
  "orig_nbformat": 4,
  "vscode": {
   "interpreter": {
    "hash": "5868237a719c5308d34c8911a17794e6baa898a055f8bd5fbd9df195d03bb563"
   }
  }
 },
 "nbformat": 4,
 "nbformat_minor": 2
}
