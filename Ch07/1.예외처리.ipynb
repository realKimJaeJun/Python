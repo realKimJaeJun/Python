{
 "cells": [
  {
   "cell_type": "code",
   "execution_count": 1,
   "metadata": {},
   "outputs": [
    {
     "data": {
      "text/plain": [
       "'\\n날짜 : 2023/01/12\\n이름 : 김재준\\n내용 : 파이썬 예외처리\\n'"
      ]
     },
     "execution_count": 1,
     "metadata": {},
     "output_type": "execute_result"
    }
   ],
   "source": [
    "\"\"\"\n",
    "날짜 : 2023/01/12\n",
    "이름 : 김재준\n",
    "내용 : 파이썬 예외처리 실습\n",
    "\"\"\""
   ]
  },
  {
   "cell_type": "code",
   "execution_count": 6,
   "metadata": {},
   "outputs": [
    {
     "name": "stdout",
     "output_type": "stream",
     "text": [
      "에러발생...\n",
      "r1 :  1\n",
      "r2 :  1\n",
      "r3 :  0\n",
      "r4 :  0\n"
     ]
    }
   ],
   "source": [
    "# try ~ except\n",
    "num1, num2 = 1, 0\n",
    "r1 = r2 = r3 = r4 = 0\n",
    "\n",
    "try:\n",
    "    r1 = num1 + num2\n",
    "    r2 = num1 - num2\n",
    "    r3 = num1 * num2\n",
    "    r4 = num1 / num2\n",
    "except:\n",
    "    print('에러발생...')\n",
    "    \n",
    "print('r1 : ', r1)\n",
    "print('r2 : ', r2)\n",
    "print('r3 : ', r3)\n",
    "print('r4 : ', r4)"
   ]
  },
  {
   "cell_type": "code",
   "execution_count": 8,
   "metadata": {},
   "outputs": [
    {
     "name": "stdout",
     "output_type": "stream",
     "text": [
      "서울\n",
      "대전\n",
      "대구\n",
      "부산\n",
      "광주\n",
      "에러내용 :  list index out of range\n",
      "예외처리 완료...\n"
     ]
    }
   ],
   "source": [
    "# try ~ except ~ finally\n",
    "cities = ['서울', '대전', '대구', '부산', '광주']\n",
    "\n",
    "try:\n",
    "    for i in range(10):\n",
    "        print(cities[i])\n",
    "\n",
    "except Exception as e:\n",
    "    print('에러내용 : ', e)\n",
    "\n",
    "finally:\n",
    "    print('예외처리 완료...')"
   ]
  },
  {
   "cell_type": "code",
   "execution_count": 9,
   "metadata": {},
   "outputs": [
    {
     "name": "stdout",
     "output_type": "stream",
     "text": [
      "1~5 선택하세요. (0:종료)\n",
      "광주를 선택하셨습니다.\n",
      "1~5 선택하세요. (0:종료)\n",
      "부산를 선택하셨습니다.\n",
      "1~5 선택하세요. (0:종료)\n",
      "1~5만 선택하세요! : list index out of range\n",
      "1~5 선택하세요. (0:종료)\n",
      "1~5만 선택하세요! : list index out of range\n",
      "1~5 선택하세요. (0:종료)\n",
      "프로그램 종료...\n"
     ]
    }
   ],
   "source": [
    "# try ~ except ~ else\n",
    "cities = ['서울', '대전', '대구', '부산', '광주']\n",
    "result = None\n",
    "\n",
    "while True:\n",
    "    try:\n",
    "        print('1~5 선택하세요. (0:종료)')\n",
    "        answer = int(input('선택'))\n",
    "\n",
    "        if answer == 0:\n",
    "            break\n",
    "\n",
    "        result = cities[answer - 1]\n",
    "\n",
    "    except Exception as e:\n",
    "        print('1~5만 선택하세요! :', e)\n",
    "\n",
    "    else:\n",
    "        print('%s를 선택하셨습니다.' % result)\n",
    "\n",
    "print('프로그램 종료...')"
   ]
  }
 ],
 "metadata": {
  "kernelspec": {
   "display_name": "Python 3",
   "language": "python",
   "name": "python3"
  },
  "language_info": {
   "codemirror_mode": {
    "name": "ipython",
    "version": 3
   },
   "file_extension": ".py",
   "mimetype": "text/x-python",
   "name": "python",
   "nbconvert_exporter": "python",
   "pygments_lexer": "ipython3",
   "version": "3.11.1"
  },
  "orig_nbformat": 4,
  "vscode": {
   "interpreter": {
    "hash": "5868237a719c5308d34c8911a17794e6baa898a055f8bd5fbd9df195d03bb563"
   }
  }
 },
 "nbformat": 4,
 "nbformat_minor": 2
}
