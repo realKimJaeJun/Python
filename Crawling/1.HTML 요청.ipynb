{
 "cells": [
  {
   "cell_type": "code",
   "execution_count": 7,
   "metadata": {},
   "outputs": [],
   "source": [
    "\"\"\"\n",
    "날짜 : 2023/01/16\n",
    "이름 : 김재준\n",
    "내용 : 파이썬 HTML 요청 실습하기\n",
    "\"\"\"\n",
    "import requests as req\n",
    "from bs4 import BeautifulSoup as bs"
   ]
  },
  {
   "cell_type": "code",
   "execution_count": null,
   "metadata": {},
   "outputs": [],
   "source": [
    "# HTML 요청\n",
    "url = 'http://chhak.click/parsing/sample2.html'\n",
    "html = req.get(url).text\n",
    "print(html)"
   ]
  },
  {
   "cell_type": "code",
   "execution_count": null,
   "metadata": {},
   "outputs": [],
   "source": [
    "# 문서객체 생성\n",
    "dom = bs(html, 'html.parser')\n",
    "print(dom)"
   ]
  },
  {
   "cell_type": "code",
   "execution_count": 12,
   "metadata": {},
   "outputs": [
    {
     "name": "stdout",
     "output_type": "stream",
     "text": [
      "tit : 스크래핑이란?\n",
      "txt : 웹페이지에서 데이터를 추출\n",
      "li : 자바\n",
      "li : JSP\n",
      "li : 데이터베이스\n",
      "li : HTML/jQuery\n",
      "li : 빅데이터\n"
     ]
    }
   ],
   "source": [
    "# 데이터 파싱\n",
    "tit = dom.html.body.h1.text\n",
    "txt = dom.select_one('#txt').text\n",
    "lis = dom.select('ul > li')\n",
    "\n",
    "print('tit :', tit)\n",
    "print('txt :', txt)\n",
    "\n",
    "for li in lis:\n",
    "    print('li :', li.text)\n"
   ]
  },
  {
   "cell_type": "code",
   "execution_count": null,
   "metadata": {},
   "outputs": [],
   "source": []
  },
  {
   "cell_type": "code",
   "execution_count": null,
   "metadata": {},
   "outputs": [],
   "source": []
  }
 ],
 "metadata": {
  "kernelspec": {
   "display_name": "Python 3",
   "language": "python",
   "name": "python3"
  },
  "language_info": {
   "codemirror_mode": {
    "name": "ipython",
    "version": 3
   },
   "file_extension": ".py",
   "mimetype": "text/x-python",
   "name": "python",
   "nbconvert_exporter": "python",
   "pygments_lexer": "ipython3",
   "version": "3.11.1"
  },
  "orig_nbformat": 4,
  "vscode": {
   "interpreter": {
    "hash": "5868237a719c5308d34c8911a17794e6baa898a055f8bd5fbd9df195d03bb563"
   }
  }
 },
 "nbformat": 4,
 "nbformat_minor": 2
}
